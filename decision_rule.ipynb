{
 "cells": [
  {
   "cell_type": "markdown",
   "metadata": {},
   "source": [
    "**$T_1.$** Soit $X_1$, ..., $X_n$ des variables aléatoires iid de loi $\\mathcal{N}(\\theta, 1)$, où $\\theta$ est inconnu.\n",
    "1.  (a) Montrer que $\\widehat{\\theta_n} = \\frac{1}{n} \\sum\\limits_{k=1}^{n}X_k$ converge presque sûrement vers $\\theta$.\n",
    "    \n",
    "    (b) Déterminer la loi de $\\sqrt{n}(\\widehat{\\theta_n} - \\theta)$.\n",
    "1. Soit $\\alpha$ $\\in$ $]0, \\;1[$ fixé et $\\Phi$ la fonction répartition de la loi Gaussienne $\\mathcal{N}(\\theta, 1)$. Déterminer en fonction de $\\alpha$, de $n$, de $\\Phi^{-1}$ et de $\\theta_0$ la valeur optimale de $K_\\alpha$ pour que la relation $\\mathbb{P}_{\\theta = \\theta_0}(T_K=1) \\leq \\alpha$ soit satisfaite avec une égalité.\n"
   ]
  },
  {
   "cell_type": "markdown",
   "metadata": {},
   "source": [
    "//TODO T1 1.a, 1.b, 2"
   ]
  },
  {
   "cell_type": "markdown",
   "metadata": {},
   "source": [
    "**$S_1.$** Créer un code python permettant:\n",
    "1. de simuler $n$ variables gaussiennes indépendantes de loi $\\mathcal{N}(\\theta_0, 1)$,\n",
    "1. de calculer pour $\\alpha$ et $\\theta_0$ fixés, la constante $K_\\alpha$ et qui vous renvoie la valeur optimale de votre règle\n",
    "de décision.\n",
    "1. Pour $\\theta_0 = 3$, $\\alpha = 0.05$ et $n = 100$ répéter $N = 100$ fois l’expérience et compter le nombre fois où\n",
    "vous avez décidé $H_0$. On appelle ce nombre $N_n$ quelle est sa loi?\n",
    "1. Pour $n \\in \\{100,\\; 1000\\}$ et $N \\in \\{100, 1000, 5000\\}$, Simuler $500$ valeurs de la variable aléatoire $N_n$ et\n",
    "les représenter sous forme d’histogramme. Que remarquez-vous?"
   ]
  },
  {
   "cell_type": "code",
   "execution_count": 4,
   "metadata": {},
   "outputs": [],
   "source": [
    "# Imports\n",
    "import numpy as np"
   ]
  },
  {
   "cell_type": "code",
   "execution_count": null,
   "metadata": {},
   "outputs": [],
   "source": [
    "#S1.1\n",
    "def n_gauss_iid(theta0: float, n: int) -> np.ndarray:\n",
    "    return np.random.normal(theta0, 1, n)"
   ]
  }
 ],
 "metadata": {
  "kernelspec": {
   "display_name": ".venv",
   "language": "python",
   "name": "python3"
  },
  "language_info": {
   "codemirror_mode": {
    "name": "ipython",
    "version": 3
   },
   "file_extension": ".py",
   "mimetype": "text/x-python",
   "name": "python",
   "nbconvert_exporter": "python",
   "pygments_lexer": "ipython3",
   "version": "3.12.3"
  }
 },
 "nbformat": 4,
 "nbformat_minor": 2
}
